{
 "cells": [
  {
   "cell_type": "code",
   "execution_count": 214,
   "metadata": {},
   "outputs": [],
   "source": [
    "#필요한 함수들 호출\n",
    "import urllib.request\n",
    "import urllib.parse\n",
    "from bs4 import BeautifulSoup\n",
    "import time\n",
    "import re\n",
    "import pandas as pd\n",
    "import json"
   ]
  },
  {
   "cell_type": "code",
   "execution_count": 215,
   "metadata": {},
   "outputs": [
    {
     "name": "stdout",
     "output_type": "stream",
     "text": [
      "Sandoll MiSaeng\n"
     ]
    }
   ],
   "source": [
    "#matplotlib 기본설정해주기\n",
    "\n",
    "%matplotlib inline\n",
    "import matplotlib.pyplot as plt\n",
    "import warnings\n",
    "warnings.filterwarnings(\"ignore\", category=RuntimeWarning)\n",
    "\n",
    "#폰트매니저 호출해주기\n",
    "from matplotlib import font_manager, rc\n",
    "font_url = 'C:/Windows/Fonts/SDMISAENG (1).ttf'\n",
    "font_name = font_manager.FontProperties(fname=font_url).get_name()\n",
    "print(font_name)\n",
    "plt.rcParams[\"font.family\"] = font_name\n",
    "rc('font', family=font_name)"
   ]
  },
  {
   "cell_type": "code",
   "execution_count": 216,
   "metadata": {},
   "outputs": [],
   "source": [
    "#필요한 변수들\n",
    "year = '2010-10-01'\n",
    "api_key = '키값을 넣어주세요!'\n",
    "id ='1459'\n",
    "url = f'http://www.kamis.or.kr/service/price/xml.do?action=dailyPriceByCategoryList&p_product_cls_code=02&p_country_code=1101&p_regday={year}&p_convert_kg_yn=N&p_item_category_code=200&p_cert_key={api_key}&p_cert_id={id}&p_returntype=json'"
   ]
  },
  {
   "cell_type": "code",
   "execution_count": 217,
   "metadata": {},
   "outputs": [
    {
     "data": {
      "text/plain": [
       "{'item_name': '배추',\n",
       " 'item_code': '211',\n",
       " 'kind_name': '고랭지(10kg)',\n",
       " 'kind_code': '02',\n",
       " 'rank': '상품',\n",
       " 'rank_code': '04',\n",
       " 'unit': '10kg',\n",
       " 'day1': '당일 (10/01)',\n",
       " 'dpr1': '30,000',\n",
       " 'day2': '1일전 (09/30)',\n",
       " 'dpr2': '31,000',\n",
       " 'day3': '1주일전 (09/24)',\n",
       " 'dpr3': '23,000',\n",
       " 'day4': '2주일전 (09/17)',\n",
       " 'dpr4': '18,000',\n",
       " 'day5': '1개월전',\n",
       " 'dpr5': '10,000',\n",
       " 'day6': '1년전',\n",
       " 'dpr6': '6,200',\n",
       " 'day7': '일평년',\n",
       " 'dpr7': '7,500'}"
      ]
     },
     "execution_count": 217,
     "metadata": {},
     "output_type": "execute_result"
    }
   ],
   "source": [
    "html = urllib.request.urlopen(url).read()\n",
    "data = json.loads(html)\n",
    "item = data['data']['item'][0]\n",
    "item"
   ]
  },
  {
   "cell_type": "code",
   "execution_count": 218,
   "metadata": {},
   "outputs": [],
   "source": [
    "item_name = item['item_name']\n",
    "당일 = item['dpr1']\n",
    "하루전 = item['dpr2']\n",
    "일주일전 = item['dpr3']\n",
    "이주일전 = item['dpr4']\n",
    "일개월전= item['dpr5']\n",
    "일년전 = item['dpr6']\n",
    "일평년 = item['dpr7']"
   ]
  },
  {
   "cell_type": "code",
   "execution_count": 219,
   "metadata": {},
   "outputs": [
    {
     "data": {
      "text/html": [
       "<div>\n",
       "<style scoped>\n",
       "    .dataframe tbody tr th:only-of-type {\n",
       "        vertical-align: middle;\n",
       "    }\n",
       "\n",
       "    .dataframe tbody tr th {\n",
       "        vertical-align: top;\n",
       "    }\n",
       "\n",
       "    .dataframe thead th {\n",
       "        text-align: right;\n",
       "    }\n",
       "</style>\n",
       "<table border=\"1\" class=\"dataframe\">\n",
       "  <thead>\n",
       "    <tr style=\"text-align: right;\">\n",
       "      <th></th>\n",
       "      <th>날짜</th>\n",
       "      <th>시세</th>\n",
       "    </tr>\n",
       "  </thead>\n",
       "  <tbody>\n",
       "    <tr>\n",
       "      <th>0</th>\n",
       "      <td>당일</td>\n",
       "      <td>30000</td>\n",
       "    </tr>\n",
       "    <tr>\n",
       "      <th>1</th>\n",
       "      <td>하루전</td>\n",
       "      <td>31000</td>\n",
       "    </tr>\n",
       "    <tr>\n",
       "      <th>2</th>\n",
       "      <td>일주일전</td>\n",
       "      <td>23000</td>\n",
       "    </tr>\n",
       "    <tr>\n",
       "      <th>3</th>\n",
       "      <td>이주일전</td>\n",
       "      <td>18000</td>\n",
       "    </tr>\n",
       "    <tr>\n",
       "      <th>4</th>\n",
       "      <td>일개월전</td>\n",
       "      <td>10000</td>\n",
       "    </tr>\n",
       "    <tr>\n",
       "      <th>5</th>\n",
       "      <td>일년전</td>\n",
       "      <td>6200</td>\n",
       "    </tr>\n",
       "    <tr>\n",
       "      <th>6</th>\n",
       "      <td>일평년</td>\n",
       "      <td>7500</td>\n",
       "    </tr>\n",
       "  </tbody>\n",
       "</table>\n",
       "</div>"
      ],
      "text/plain": [
       "     날짜     시세\n",
       "0    당일  30000\n",
       "1   하루전  31000\n",
       "2  일주일전  23000\n",
       "3  이주일전  18000\n",
       "4  일개월전  10000\n",
       "5   일년전   6200\n",
       "6   일평년   7500"
      ]
     },
     "execution_count": 219,
     "metadata": {},
     "output_type": "execute_result"
    }
   ],
   "source": [
    "날짜 = ['당일', '하루전', '일주일전', '이주일전', '일개월전', '일년전', '일평년']\n",
    "시세 = [당일, 하루전, 일주일전, 이주일전, 일개월전, 일년전, 일평년]\n",
    "배추_시세 = list(zip(날짜,시세))\n",
    "df = pd.DataFrame(data = 배추_시세, columns=['날짜', '시세'])\n",
    "df['시세'] = df['시세'].str.replace(',', '').str.replace('-', '0').astype('int64')\n",
    "df"
   ]
  },
  {
   "cell_type": "code",
   "execution_count": 220,
   "metadata": {},
   "outputs": [
    {
     "data": {
      "text/plain": [
       "Text(0.5, 1.0, '2010-10-01 배추시세')"
      ]
     },
     "execution_count": 220,
     "metadata": {},
     "output_type": "execute_result"
    },
    {
     "data": {
      "image/png": "[encoded data removed]",
      "text/plain": [
       "<Figure size 1080x360 with 1 Axes>"
      ]
     },
     "metadata": {
      "needs_background": "light"
     },
     "output_type": "display_data"
    }
   ],
   "source": [
    "plt.rcParams[\"font.size\"] = 30\n",
    "plt.figure (figsize=(15,5))\n",
    "\n",
    "x= df['날짜']\n",
    "y = df['시세']\n",
    "#막대그래프 객체 생성\n",
    "plt.bar(x,y)\n",
    "\n",
    "for i, v in enumerate(x):\n",
    "    plt.text(v, y[i], y[i],                 # 좌표 (x축 = v, y축 = y[0]..y[1], 표시 = y[0]..y[1])\n",
    "                fontsize = 20, \n",
    "                color='blue',\n",
    "                horizontalalignment='center',  # horizontalalignment (left, center, right)\n",
    "                verticalalignment='bottom')    # verticalalignment (top, center, bottom)\n",
    "plt.xlabel('날짜')\n",
    "plt.ylabel('시세')\n",
    "plt.title(f'{year} {item_name}시세')"
   ]
  }
 ],
 "metadata": {
  "kernelspec": {
   "display_name": "Python 3",
   "language": "python",
   "name": "python3"
  },
  "language_info": {
   "codemirror_mode": {
    "name": "ipython",
    "version": 3
   },
   "file_extension": ".py",
   "mimetype": "text/x-python",
   "name": "python",
   "nbconvert_exporter": "python",
   "pygments_lexer": "ipython3",
   "version": "3.8.5"
  }
 },
 "nbformat": 4,
 "nbformat_minor": 4
}
